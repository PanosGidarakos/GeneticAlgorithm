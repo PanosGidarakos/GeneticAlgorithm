{
 "cells": [
  {
   "cell_type": "code",
   "execution_count": 3,
   "id": "7c64a804-7261-442c-9801-fa900775cb46",
   "metadata": {},
   "outputs": [],
   "source": [
    "import pandas as pd"
   ]
  },
  {
   "cell_type": "code",
   "execution_count": 14,
   "id": "c7d78f0a-f94b-43b3-b0fd-76ae95eeee08",
   "metadata": {},
   "outputs": [],
   "source": [
    "df = pd.read_parquet(\"/opt/more-new-workspace/BEBEZE03_scada_high_frequency.parquet\").reset_index()[10000000:15000000]"
   ]
  },
  {
   "cell_type": "code",
   "execution_count": 15,
   "id": "085bd06e-bbf5-47bf-a643-7a6963fb3b37",
   "metadata": {},
   "outputs": [],
   "source": [
    "df.to_csv(\"/opt/more-new-workspace/BEBEZE03_scada_high_frequency.csv\", index=False)"
   ]
  },
  {
   "cell_type": "code",
   "execution_count": 38,
   "id": "9548e1a0-1ee3-4364-8114-ad2ef5d8bc38",
   "metadata": {},
   "outputs": [],
   "source": [
    "df['sensor'] = 'sensor'\n",
    "df.to_parquet(\"/opt/more-new-workspace/sensor2-vis.parquet\", index=False, engine='pyarrow')"
   ]
  },
  {
   "cell_type": "code",
   "execution_count": 11,
   "id": "92aea257-f670-4f62-973a-42e8232e22c1",
   "metadata": {},
   "outputs": [
    {
     "ename": "ValueError",
     "evalue": "value_name (value) cannot match an element in the DataFrame columns.",
     "output_type": "error",
     "traceback": [
      "\u001b[0;31m---------------------------------------------------------------------------\u001b[0m",
      "\u001b[0;31mValueError\u001b[0m                                Traceback (most recent call last)",
      "Cell \u001b[0;32mIn[11], line 5\u001b[0m\n\u001b[1;32m      2\u001b[0m sensor_mapping \u001b[38;5;241m=\u001b[39m {col: i \u001b[38;5;28;01mfor\u001b[39;00m i, col \u001b[38;5;129;01min\u001b[39;00m \u001b[38;5;28menumerate\u001b[39m(df\u001b[38;5;241m.\u001b[39mcolumns[\u001b[38;5;241m1\u001b[39m:])}\n\u001b[1;32m      4\u001b[0m \u001b[38;5;66;03m# Melt the dataframe to reshape it and convert sensor names to integers\u001b[39;00m\n\u001b[0;32m----> 5\u001b[0m melted_df \u001b[38;5;241m=\u001b[39m \u001b[43mpd\u001b[49m\u001b[38;5;241;43m.\u001b[39;49m\u001b[43mmelt\u001b[49m\u001b[43m(\u001b[49m\u001b[43mdf\u001b[49m\u001b[43m,\u001b[49m\u001b[43m \u001b[49m\u001b[43mid_vars\u001b[49m\u001b[38;5;241;43m=\u001b[39;49m\u001b[43m[\u001b[49m\u001b[38;5;124;43m'\u001b[39;49m\u001b[38;5;124;43mdatetime\u001b[39;49m\u001b[38;5;124;43m'\u001b[39;49m\u001b[43m]\u001b[49m\u001b[43m,\u001b[49m\u001b[43m \u001b[49m\u001b[43mvar_name\u001b[49m\u001b[38;5;241;43m=\u001b[39;49m\u001b[38;5;124;43m'\u001b[39;49m\u001b[38;5;124;43msensor\u001b[39;49m\u001b[38;5;124;43m'\u001b[39;49m\u001b[43m,\u001b[49m\u001b[43m \u001b[49m\u001b[43mvalue_name\u001b[49m\u001b[38;5;241;43m=\u001b[39;49m\u001b[38;5;124;43m'\u001b[39;49m\u001b[38;5;124;43mvalue\u001b[39;49m\u001b[38;5;124;43m'\u001b[39;49m\u001b[43m)\u001b[49m\n\u001b[1;32m      6\u001b[0m \u001b[38;5;66;03m# melted_df['sensor'] = melted_df['sensor'].map(sensor_mapping)\u001b[39;00m\n\u001b[1;32m      7\u001b[0m \n\u001b[1;32m      8\u001b[0m \u001b[38;5;66;03m# Convert 'datetime' column to timestamp\u001b[39;00m\n\u001b[1;32m      9\u001b[0m melted_df[\u001b[38;5;124m'\u001b[39m\u001b[38;5;124mdatetime\u001b[39m\u001b[38;5;124m'\u001b[39m] \u001b[38;5;241m=\u001b[39m  pd\u001b[38;5;241m.\u001b[39mto_datetime(melted_df[\u001b[38;5;124m'\u001b[39m\u001b[38;5;124mdatetime\u001b[39m\u001b[38;5;124m'\u001b[39m], \u001b[38;5;28mformat\u001b[39m\u001b[38;5;241m=\u001b[39m\u001b[38;5;124m'\u001b[39m\u001b[38;5;124m%\u001b[39m\u001b[38;5;124mY-\u001b[39m\u001b[38;5;124m%\u001b[39m\u001b[38;5;124mm-\u001b[39m\u001b[38;5;132;01m%d\u001b[39;00m\u001b[38;5;124m \u001b[39m\u001b[38;5;124m%\u001b[39m\u001b[38;5;124mH:\u001b[39m\u001b[38;5;124m%\u001b[39m\u001b[38;5;124mM:\u001b[39m\u001b[38;5;124m%\u001b[39m\u001b[38;5;124mS\u001b[39m\u001b[38;5;124m'\u001b[39m)\u001b[38;5;241m.\u001b[39mastype(\u001b[38;5;124m'\u001b[39m\u001b[38;5;124mdatetime64[us]\u001b[39m\u001b[38;5;124m'\u001b[39m)\n",
      "File \u001b[0;32m~/anaconda3/lib/python3.10/site-packages/pandas/core/reshape/melt.py:52\u001b[0m, in \u001b[0;36mmelt\u001b[0;34m(frame, id_vars, value_vars, var_name, value_name, col_level, ignore_index)\u001b[0m\n\u001b[1;32m     49\u001b[0m     cols \u001b[38;5;241m=\u001b[39m \u001b[38;5;28mlist\u001b[39m(frame\u001b[38;5;241m.\u001b[39mcolumns)\n\u001b[1;32m     51\u001b[0m \u001b[38;5;28;01mif\u001b[39;00m value_name \u001b[38;5;129;01min\u001b[39;00m frame\u001b[38;5;241m.\u001b[39mcolumns:\n\u001b[0;32m---> 52\u001b[0m     \u001b[38;5;28;01mraise\u001b[39;00m \u001b[38;5;167;01mValueError\u001b[39;00m(\n\u001b[1;32m     53\u001b[0m         \u001b[38;5;124mf\u001b[39m\u001b[38;5;124m\"\u001b[39m\u001b[38;5;124mvalue_name (\u001b[39m\u001b[38;5;132;01m{\u001b[39;00mvalue_name\u001b[38;5;132;01m}\u001b[39;00m\u001b[38;5;124m) cannot match an element in \u001b[39m\u001b[38;5;124m\"\u001b[39m\n\u001b[1;32m     54\u001b[0m         \u001b[38;5;124m\"\u001b[39m\u001b[38;5;124mthe DataFrame columns.\u001b[39m\u001b[38;5;124m\"\u001b[39m\n\u001b[1;32m     55\u001b[0m     )\n\u001b[1;32m     57\u001b[0m \u001b[38;5;28;01mif\u001b[39;00m id_vars \u001b[38;5;129;01mis\u001b[39;00m \u001b[38;5;129;01mnot\u001b[39;00m \u001b[38;5;28;01mNone\u001b[39;00m:\n\u001b[1;32m     58\u001b[0m     \u001b[38;5;28;01mif\u001b[39;00m \u001b[38;5;129;01mnot\u001b[39;00m is_list_like(id_vars):\n",
      "\u001b[0;31mValueError\u001b[0m: value_name (value) cannot match an element in the DataFrame columns."
     ]
    }
   ],
   "source": [
    "# melted_df = pd.melt(df, id_vars=['timestamp'], var_name='sensor', value_name='value')\n",
    "sensor_mapping = {col: i for i, col in enumerate(df.columns[1:])}\n",
    "\n",
    "# Melt the dataframe to reshape it and convert sensor names to integers\n",
    "melted_df = pd.melt(df, id_vars=['datetime'], var_name='sensor', value_name='value')\n",
    "# melted_df['sensor'] = melted_df['sensor'].map(sensor_mapping)\n",
    "\n",
    "# Convert 'datetime' column to timestamp\n",
    "melted_df['datetime'] =  pd.to_datetime(melted_df['datetime'], format='%Y-%m-%d %H:%M:%S').astype('datetime64[us]')\n",
    "\n",
    "# Define columns to be cast to int32 and float32\n",
    "int32_columns = ['sensor']  # Update 'sensor' column to int32 if needed\n",
    "float32_columns = ['value']"
   ]
  },
  {
   "cell_type": "code",
   "execution_count": 20,
   "id": "c15a376b-6f85-4044-b2a9-b862308dd9ca",
   "metadata": {},
   "outputs": [],
   "source": [
    "melted_df.to_parquet(\"/opt/more-new-workspace/bebeze2-vis.parquet\", index=False, engine='pyarrow')"
   ]
  },
  {
   "cell_type": "code",
   "execution_count": 27,
   "id": "c0f438fc-612f-47a0-bb73-1fd638ad0b86",
   "metadata": {},
   "outputs": [
    {
     "data": {
      "text/html": [
       "<div>\n",
       "<style scoped>\n",
       "    .dataframe tbody tr th:only-of-type {\n",
       "        vertical-align: middle;\n",
       "    }\n",
       "\n",
       "    .dataframe tbody tr th {\n",
       "        vertical-align: top;\n",
       "    }\n",
       "\n",
       "    .dataframe thead th {\n",
       "        text-align: right;\n",
       "    }\n",
       "</style>\n",
       "<table border=\"1\" class=\"dataframe\">\n",
       "  <thead>\n",
       "    <tr style=\"text-align: right;\">\n",
       "      <th></th>\n",
       "      <th>datetime</th>\n",
       "      <th>value</th>\n",
       "      <th>sensor</th>\n",
       "    </tr>\n",
       "  </thead>\n",
       "  <tbody>\n",
       "    <tr>\n",
       "      <th>0</th>\n",
       "      <td>2023-10-17 00:00:00.000</td>\n",
       "      <td>205.3690</td>\n",
       "      <td>sensor</td>\n",
       "    </tr>\n",
       "    <tr>\n",
       "      <th>1</th>\n",
       "      <td>2023-10-17 00:00:00.033</td>\n",
       "      <td>205.3626</td>\n",
       "      <td>sensor</td>\n",
       "    </tr>\n",
       "    <tr>\n",
       "      <th>2</th>\n",
       "      <td>2023-10-17 00:00:00.067</td>\n",
       "      <td>205.3821</td>\n",
       "      <td>sensor</td>\n",
       "    </tr>\n",
       "    <tr>\n",
       "      <th>3</th>\n",
       "      <td>2023-10-17 00:00:00.100</td>\n",
       "      <td>205.3791</td>\n",
       "      <td>sensor</td>\n",
       "    </tr>\n",
       "    <tr>\n",
       "      <th>4</th>\n",
       "      <td>2023-10-17 00:00:00.133</td>\n",
       "      <td>205.3770</td>\n",
       "      <td>sensor</td>\n",
       "    </tr>\n",
       "    <tr>\n",
       "      <th>...</th>\n",
       "      <td>...</td>\n",
       "      <td>...</td>\n",
       "      <td>...</td>\n",
       "    </tr>\n",
       "    <tr>\n",
       "      <th>5395</th>\n",
       "      <td>2023-10-17 00:02:59.832</td>\n",
       "      <td>205.2544</td>\n",
       "      <td>sensor</td>\n",
       "    </tr>\n",
       "    <tr>\n",
       "      <th>5396</th>\n",
       "      <td>2023-10-17 00:02:59.866</td>\n",
       "      <td>205.2592</td>\n",
       "      <td>sensor</td>\n",
       "    </tr>\n",
       "    <tr>\n",
       "      <th>5397</th>\n",
       "      <td>2023-10-17 00:02:59.899</td>\n",
       "      <td>205.2516</td>\n",
       "      <td>sensor</td>\n",
       "    </tr>\n",
       "    <tr>\n",
       "      <th>5398</th>\n",
       "      <td>2023-10-17 00:02:59.932</td>\n",
       "      <td>205.2438</td>\n",
       "      <td>sensor</td>\n",
       "    </tr>\n",
       "    <tr>\n",
       "      <th>5399</th>\n",
       "      <td>2023-10-17 00:02:59.966</td>\n",
       "      <td>205.2495</td>\n",
       "      <td>sensor</td>\n",
       "    </tr>\n",
       "  </tbody>\n",
       "</table>\n",
       "<p>5400 rows × 3 columns</p>\n",
       "</div>"
      ],
      "text/plain": [
       "                    datetime     value  sensor\n",
       "0    2023-10-17 00:00:00.000  205.3690  sensor\n",
       "1    2023-10-17 00:00:00.033  205.3626  sensor\n",
       "2    2023-10-17 00:00:00.067  205.3821  sensor\n",
       "3    2023-10-17 00:00:00.100  205.3791  sensor\n",
       "4    2023-10-17 00:00:00.133  205.3770  sensor\n",
       "...                      ...       ...     ...\n",
       "5395 2023-10-17 00:02:59.832  205.2544  sensor\n",
       "5396 2023-10-17 00:02:59.866  205.2592  sensor\n",
       "5397 2023-10-17 00:02:59.899  205.2516  sensor\n",
       "5398 2023-10-17 00:02:59.932  205.2438  sensor\n",
       "5399 2023-10-17 00:02:59.966  205.2495  sensor\n",
       "\n",
       "[5400 rows x 3 columns]"
      ]
     },
     "execution_count": 27,
     "metadata": {},
     "output_type": "execute_result"
    }
   ],
   "source": [
    "df = pd.read_parquet(\"/opt/more-new-workspace/sensor1-vis.parquet\")\n",
    "df"
   ]
  },
  {
   "cell_type": "code",
   "execution_count": 26,
   "id": "083d4797-be2a-495b-b213-f7ed2f015b8e",
   "metadata": {},
   "outputs": [
    {
     "name": "stdout",
     "output_type": "stream",
     "text": [
      "datetime    datetime64[us]\n",
      "value              float64\n",
      "sensor              object\n",
      "dtype: object\n"
     ]
    }
   ],
   "source": [
    "column_data_types = df.dtypes\n",
    "print(column_data_types)"
   ]
  },
  {
   "cell_type": "code",
   "execution_count": 7,
   "id": "933646b8-16af-46e2-be69-20d75e835fb2",
   "metadata": {},
   "outputs": [
    {
     "data": {
      "text/html": [
       "<div>\n",
       "<style scoped>\n",
       "    .dataframe tbody tr th:only-of-type {\n",
       "        vertical-align: middle;\n",
       "    }\n",
       "\n",
       "    .dataframe tbody tr th {\n",
       "        vertical-align: top;\n",
       "    }\n",
       "\n",
       "    .dataframe thead th {\n",
       "        text-align: right;\n",
       "    }\n",
       "</style>\n",
       "<table border=\"1\" class=\"dataframe\">\n",
       "  <thead>\n",
       "    <tr style=\"text-align: right;\">\n",
       "      <th></th>\n",
       "      <th>datetime</th>\n",
       "      <th>sensor</th>\n",
       "      <th>value</th>\n",
       "    </tr>\n",
       "  </thead>\n",
       "  <tbody>\n",
       "    <tr>\n",
       "      <th>0</th>\n",
       "      <td>2012-12-20 10:40:02</td>\n",
       "      <td>irradiance</td>\n",
       "      <td>22.8</td>\n",
       "    </tr>\n",
       "    <tr>\n",
       "      <th>1</th>\n",
       "      <td>2012-12-20 10:45:02</td>\n",
       "      <td>irradiance</td>\n",
       "      <td>31.0</td>\n",
       "    </tr>\n",
       "    <tr>\n",
       "      <th>2</th>\n",
       "      <td>2012-12-20 10:50:02</td>\n",
       "      <td>irradiance</td>\n",
       "      <td>34.0</td>\n",
       "    </tr>\n",
       "    <tr>\n",
       "      <th>3</th>\n",
       "      <td>2012-12-20 10:55:02</td>\n",
       "      <td>irradiance</td>\n",
       "      <td>29.2</td>\n",
       "    </tr>\n",
       "    <tr>\n",
       "      <th>4</th>\n",
       "      <td>2012-12-20 11:00:02</td>\n",
       "      <td>irradiance</td>\n",
       "      <td>32.9</td>\n",
       "    </tr>\n",
       "    <tr>\n",
       "      <th>...</th>\n",
       "      <td>...</td>\n",
       "      <td>...</td>\n",
       "      <td>...</td>\n",
       "    </tr>\n",
       "    <tr>\n",
       "      <th>41665</th>\n",
       "      <td>2014-01-20 16:20:02</td>\n",
       "      <td>irradiance</td>\n",
       "      <td>30.5</td>\n",
       "    </tr>\n",
       "    <tr>\n",
       "      <th>41666</th>\n",
       "      <td>2014-01-20 16:25:02</td>\n",
       "      <td>irradiance</td>\n",
       "      <td>36.4</td>\n",
       "    </tr>\n",
       "    <tr>\n",
       "      <th>41667</th>\n",
       "      <td>2014-01-20 16:30:02</td>\n",
       "      <td>irradiance</td>\n",
       "      <td>36.1</td>\n",
       "    </tr>\n",
       "    <tr>\n",
       "      <th>41668</th>\n",
       "      <td>2014-01-20 16:35:02</td>\n",
       "      <td>irradiance</td>\n",
       "      <td>28.3</td>\n",
       "    </tr>\n",
       "    <tr>\n",
       "      <th>41669</th>\n",
       "      <td>2014-01-20 16:45:02</td>\n",
       "      <td>irradiance</td>\n",
       "      <td>22.5</td>\n",
       "    </tr>\n",
       "  </tbody>\n",
       "</table>\n",
       "<p>41670 rows × 3 columns</p>\n",
       "</div>"
      ],
      "text/plain": [
       "                 datetime      sensor  value\n",
       "0     2012-12-20 10:40:02  irradiance   22.8\n",
       "1     2012-12-20 10:45:02  irradiance   31.0\n",
       "2     2012-12-20 10:50:02  irradiance   34.0\n",
       "3     2012-12-20 10:55:02  irradiance   29.2\n",
       "4     2012-12-20 11:00:02  irradiance   32.9\n",
       "...                   ...         ...    ...\n",
       "41665 2014-01-20 16:20:02  irradiance   30.5\n",
       "41666 2014-01-20 16:25:02  irradiance   36.4\n",
       "41667 2014-01-20 16:30:02  irradiance   36.1\n",
       "41668 2014-01-20 16:35:02  irradiance   28.3\n",
       "41669 2014-01-20 16:45:02  irradiance   22.5\n",
       "\n",
       "[41670 rows x 3 columns]"
      ]
     },
     "execution_count": 7,
     "metadata": {},
     "output_type": "execute_result"
    }
   ],
   "source": [
    "df[df['sensor']=='irradiance']"
   ]
  },
  {
   "cell_type": "code",
   "execution_count": 8,
   "id": "cbf72d28-d313-4dcc-9375-1be976b3615c",
   "metadata": {},
   "outputs": [],
   "source": [
    "df.to_parquet(\"/opt/more-new-workspace/eugene-vis.parquet\", index=False, engine='pyarrow')"
   ]
  },
  {
   "cell_type": "code",
   "execution_count": 2,
   "id": "fea9e161-87e3-47c8-b1e9-e62ceda944d7",
   "metadata": {},
   "outputs": [
    {
     "data": {
      "text/html": [
       "<div>\n",
       "<style scoped>\n",
       "    .dataframe tbody tr th:only-of-type {\n",
       "        vertical-align: middle;\n",
       "    }\n",
       "\n",
       "    .dataframe tbody tr th {\n",
       "        vertical-align: top;\n",
       "    }\n",
       "\n",
       "    .dataframe thead th {\n",
       "        text-align: right;\n",
       "    }\n",
       "</style>\n",
       "<table border=\"1\" class=\"dataframe\">\n",
       "  <thead>\n",
       "    <tr style=\"text-align: right;\">\n",
       "      <th></th>\n",
       "      <th>datetime</th>\n",
       "      <th>sensor</th>\n",
       "      <th>value</th>\n",
       "    </tr>\n",
       "  </thead>\n",
       "  <tbody>\n",
       "    <tr>\n",
       "      <th>0</th>\n",
       "      <td>2012-12-20 10:40:02</td>\n",
       "      <td>irradiance</td>\n",
       "      <td>22.8</td>\n",
       "    </tr>\n",
       "    <tr>\n",
       "      <th>1</th>\n",
       "      <td>2012-12-20 10:45:02</td>\n",
       "      <td>irradiance</td>\n",
       "      <td>31.0</td>\n",
       "    </tr>\n",
       "    <tr>\n",
       "      <th>2</th>\n",
       "      <td>2012-12-20 10:50:02</td>\n",
       "      <td>irradiance</td>\n",
       "      <td>34.0</td>\n",
       "    </tr>\n",
       "    <tr>\n",
       "      <th>3</th>\n",
       "      <td>2012-12-20 10:55:02</td>\n",
       "      <td>irradiance</td>\n",
       "      <td>29.2</td>\n",
       "    </tr>\n",
       "    <tr>\n",
       "      <th>4</th>\n",
       "      <td>2012-12-20 11:00:02</td>\n",
       "      <td>irradiance</td>\n",
       "      <td>32.9</td>\n",
       "    </tr>\n",
       "    <tr>\n",
       "      <th>...</th>\n",
       "      <td>...</td>\n",
       "      <td>...</td>\n",
       "      <td>...</td>\n",
       "    </tr>\n",
       "    <tr>\n",
       "      <th>541705</th>\n",
       "      <td>2014-01-20 16:20:02</td>\n",
       "      <td>soiling_derate</td>\n",
       "      <td>1.0</td>\n",
       "    </tr>\n",
       "    <tr>\n",
       "      <th>541706</th>\n",
       "      <td>2014-01-20 16:25:02</td>\n",
       "      <td>soiling_derate</td>\n",
       "      <td>1.0</td>\n",
       "    </tr>\n",
       "    <tr>\n",
       "      <th>541707</th>\n",
       "      <td>2014-01-20 16:30:02</td>\n",
       "      <td>soiling_derate</td>\n",
       "      <td>1.0</td>\n",
       "    </tr>\n",
       "    <tr>\n",
       "      <th>541708</th>\n",
       "      <td>2014-01-20 16:35:02</td>\n",
       "      <td>soiling_derate</td>\n",
       "      <td>1.0</td>\n",
       "    </tr>\n",
       "    <tr>\n",
       "      <th>541709</th>\n",
       "      <td>2014-01-20 16:45:02</td>\n",
       "      <td>soiling_derate</td>\n",
       "      <td>1.0</td>\n",
       "    </tr>\n",
       "  </tbody>\n",
       "</table>\n",
       "<p>541710 rows × 3 columns</p>\n",
       "</div>"
      ],
      "text/plain": [
       "                  datetime          sensor  value\n",
       "0      2012-12-20 10:40:02      irradiance   22.8\n",
       "1      2012-12-20 10:45:02      irradiance   31.0\n",
       "2      2012-12-20 10:50:02      irradiance   34.0\n",
       "3      2012-12-20 10:55:02      irradiance   29.2\n",
       "4      2012-12-20 11:00:02      irradiance   32.9\n",
       "...                    ...             ...    ...\n",
       "541705 2014-01-20 16:20:02  soiling_derate    1.0\n",
       "541706 2014-01-20 16:25:02  soiling_derate    1.0\n",
       "541707 2014-01-20 16:30:02  soiling_derate    1.0\n",
       "541708 2014-01-20 16:35:02  soiling_derate    1.0\n",
       "541709 2014-01-20 16:45:02  soiling_derate    1.0\n",
       "\n",
       "[541710 rows x 3 columns]"
      ]
     },
     "execution_count": 2,
     "metadata": {},
     "output_type": "execute_result"
    }
   ],
   "source": [
    "df = pd.read_parquet(\"/opt/more-new-workspace/eugene-vis.parquet\")\n",
    "df"
   ]
  },
  {
   "cell_type": "code",
   "execution_count": 21,
   "id": "fb8d44f4-0ef5-4b05-b91b-a7218447a270",
   "metadata": {},
   "outputs": [
    {
     "name": "stdout",
     "output_type": "stream",
     "text": [
      "[]\n"
     ]
    }
   ],
   "source": [
    "\n",
    "flight_client = flight.FlightClient(\"grpc://83.212.75.52:31000\")\n",
    "\n",
    "sql = \"CREATE MODEL TABLE EUG5(datetime TIMESTAMP, sensor TAG, value FIELD (0.5))\"\n",
    "# sql = \"DROP TABLE EUG2\"\n",
    "action = flight.Action(\"CommandStatementUpdate\", str.encode(sql))\n",
    "result = flight_client.do_action(action)\n",
    "print(list(result))"
   ]
  },
  {
   "cell_type": "code",
   "execution_count": 22,
   "id": "8e10e055-4bb5-4a4b-9a6c-c7f51d5556f4",
   "metadata": {},
   "outputs": [],
   "source": [
    "import pyarrow\n",
    "from pyarrow import flight\n",
    "\n",
    "# Read the data into a PyArrow table.\n",
    "datetime = pyarrow.array(df['datetime'])\n",
    "sensor = pyarrow.array(df['sensor'])\n",
    "value = pyarrow.array(df['value'])\n",
    "\n",
    "names = [\"datetime\", \"sensor\", \"value\"]\n",
    "table = pyarrow.Table.from_arrays([datetime, sensor, value], names=names)\n",
    "\n",
    "# Push the table to modelardbd's Apache Arrow Flight do_put() endpoint.\n",
    "upload_descriptor = flight.FlightDescriptor.for_path(\"EUG5\")\n",
    "writer, _ = flight_client.do_put(upload_descriptor, table.schema)\n",
    "writer.write(table)\n",
    "writer.close()"
   ]
  },
  {
   "cell_type": "code",
   "execution_count": 25,
   "id": "362b0071-f7da-4bad-ba41-8b0aca99c0fa",
   "metadata": {},
   "outputs": [
    {
     "data": {
      "text/plain": [
       "WriteStats(num_messages=2, num_record_batches=1, num_dictionary_batches=0, num_dictionary_deltas=0, num_replaced_dictionaries=0)"
      ]
     },
     "execution_count": 25,
     "metadata": {},
     "output_type": "execute_result"
    }
   ],
   "source": [
    "writer.stats"
   ]
  },
  {
   "cell_type": "code",
   "execution_count": null,
   "id": "047a404f-c2ad-4bbd-933a-e8f46d1a2262",
   "metadata": {},
   "outputs": [],
   "source": []
  }
 ],
 "metadata": {
  "kernelspec": {
   "display_name": "Python 3 (ipykernel)",
   "language": "python",
   "name": "python3"
  },
  "language_info": {
   "codemirror_mode": {
    "name": "ipython",
    "version": 3
   },
   "file_extension": ".py",
   "mimetype": "text/x-python",
   "name": "python",
   "nbconvert_exporter": "python",
   "pygments_lexer": "ipython3",
   "version": "3.10.9"
  }
 },
 "nbformat": 4,
 "nbformat_minor": 5
}
